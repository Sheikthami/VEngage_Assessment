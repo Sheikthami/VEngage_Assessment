{
  "nbformat": 4,
  "nbformat_minor": 0,
  "metadata": {
    "colab": {
      "provenance": [],
      "authorship_tag": "ABX9TyOLu7RoFU3BGNAWSLd0l7rS",
      "include_colab_link": true
    },
    "kernelspec": {
      "name": "python3",
      "display_name": "Python 3"
    },
    "language_info": {
      "name": "python"
    },
    "accelerator": "TPU"
  },
  "cells": [
    {
      "cell_type": "markdown",
      "metadata": {
        "id": "view-in-github",
        "colab_type": "text"
      },
      "source": [
        "<a href=\"https://colab.research.google.com/github/Sheikthami/VEngage_Assessment/blob/main/VEngage_Assessment.ipynb\" target=\"_parent\"><img src=\"https://colab.research.google.com/assets/colab-badge.svg\" alt=\"Open In Colab\"/></a>"
      ]
    },
    {
      "cell_type": "markdown",
      "source": [
        "# **Assessment for VEngage**\n"
      ],
      "metadata": {
        "id": "OayEetkF_oyx"
      }
    },
    {
      "cell_type": "markdown",
      "source": [
        "# **Importing Libraries**"
      ],
      "metadata": {
        "id": "_mly2agS_zZ3"
      }
    },
    {
      "cell_type": "code",
      "source": [
        "pip install faker"
      ],
      "metadata": {
        "colab": {
          "base_uri": "https://localhost:8080/"
        },
        "id": "GIPNzShl9KOd",
        "outputId": "e12108a5-11ef-4aae-8a77-2b46de2c1326"
      },
      "execution_count": 11,
      "outputs": [
        {
          "output_type": "stream",
          "name": "stdout",
          "text": [
            "Collecting faker\n",
            "  Downloading Faker-21.0.0-py3-none-any.whl (1.7 MB)\n",
            "\u001b[?25l     \u001b[90m━━━━━━━━━━━━━━━━━━━━━━━━━━━━━━━━━━━━━━━━\u001b[0m \u001b[32m0.0/1.7 MB\u001b[0m \u001b[31m?\u001b[0m eta \u001b[36m-:--:--\u001b[0m\r\u001b[2K     \u001b[91m━━\u001b[0m\u001b[90m╺\u001b[0m\u001b[90m━━━━━━━━━━━━━━━━━━━━━━━━━━━━━━━━━━━━━\u001b[0m \u001b[32m0.1/1.7 MB\u001b[0m \u001b[31m2.5 MB/s\u001b[0m eta \u001b[36m0:00:01\u001b[0m\r\u001b[2K     \u001b[91m━━━━━━━━━━━━━━━━━━━━━━━━\u001b[0m\u001b[90m╺\u001b[0m\u001b[90m━━━━━━━━━━━━━━━\u001b[0m \u001b[32m1.1/1.7 MB\u001b[0m \u001b[31m15.3 MB/s\u001b[0m eta \u001b[36m0:00:01\u001b[0m\r\u001b[2K     \u001b[90m━━━━━━━━━━━━━━━━━━━━━━━━━━━━━━━━━━━━━━━━\u001b[0m \u001b[32m1.7/1.7 MB\u001b[0m \u001b[31m17.6 MB/s\u001b[0m eta \u001b[36m0:00:00\u001b[0m\n",
            "\u001b[?25hRequirement already satisfied: python-dateutil>=2.4 in /usr/local/lib/python3.10/dist-packages (from faker) (2.8.2)\n",
            "Requirement already satisfied: six>=1.5 in /usr/local/lib/python3.10/dist-packages (from python-dateutil>=2.4->faker) (1.16.0)\n",
            "Installing collected packages: faker\n",
            "Successfully installed faker-21.0.0\n"
          ]
        }
      ]
    },
    {
      "cell_type": "code",
      "source": [
        "import pandas as pd\n",
        "from faker import Faker\n",
        "from prettytable import PrettyTable\n",
        "import csv"
      ],
      "metadata": {
        "id": "sDecpvCY7VEa"
      },
      "execution_count": 12,
      "outputs": []
    },
    {
      "cell_type": "code",
      "source": [
        "fake = Faker()"
      ],
      "metadata": {
        "id": "BGCGIueT9FS1"
      },
      "execution_count": 13,
      "outputs": []
    },
    {
      "cell_type": "markdown",
      "source": [
        "# **Conversion of data into DataFrame**"
      ],
      "metadata": {
        "id": "CBa7166Z_7qN"
      }
    },
    {
      "cell_type": "code",
      "source": [
        "data = {\n",
        "    'Name': [fake.name() for _ in range(100)],\n",
        "    'email': [fake.email() for _ in range(100)],\n",
        "    'Phone 1': [fake.phone_number() for _ in range(100)],\n",
        "    'Phone 2': [fake.phone_number() for _ in range(100)],\n",
        "}"
      ],
      "metadata": {
        "id": "wYUjHRiU9VZI"
      },
      "execution_count": 14,
      "outputs": []
    },
    {
      "cell_type": "code",
      "source": [
        "df = pd.DataFrame(data)\n",
        "df.to_csv('/phone_book.csv', index=False)"
      ],
      "metadata": {
        "id": "NdFmehRN9ZD3"
      },
      "execution_count": 15,
      "outputs": []
    },
    {
      "cell_type": "code",
      "source": [
        "df.info()"
      ],
      "metadata": {
        "colab": {
          "base_uri": "https://localhost:8080/"
        },
        "id": "5hmKFqGI9qn5",
        "outputId": "c995749e-fa2f-45d0-ce1d-6d618bb733d6"
      },
      "execution_count": 16,
      "outputs": [
        {
          "output_type": "stream",
          "name": "stdout",
          "text": [
            "<class 'pandas.core.frame.DataFrame'>\n",
            "RangeIndex: 100 entries, 0 to 99\n",
            "Data columns (total 4 columns):\n",
            " #   Column   Non-Null Count  Dtype \n",
            "---  ------   --------------  ----- \n",
            " 0   Name     100 non-null    object\n",
            " 1   email    100 non-null    object\n",
            " 2   Phone 1  100 non-null    object\n",
            " 3   Phone 2  100 non-null    object\n",
            "dtypes: object(4)\n",
            "memory usage: 3.2+ KB\n"
          ]
        }
      ]
    },
    {
      "cell_type": "code",
      "source": [
        "class PhoneBook:\n",
        "    def __init__(self, records):\n",
        "        self.records = records\n",
        "\n",
        "    def select_all(self, limit=10):\n",
        "        return self.records[:limit]\n",
        "\n",
        "    def add_record(self, name, email, phone1, phone2):\n",
        "        new_record = {\n",
        "            'Name': name,\n",
        "            'email': email,\n",
        "            'Phone 1': phone1,\n",
        "            'Phone 2': phone2\n",
        "        }\n",
        "\n",
        "        self.records.append(new_record)\n",
        "        return new_record\n",
        "\n",
        "    def remove_records(self, column_name, value):\n",
        "        deleted_records = [record for record in self.records if record.get(column_name) == value]\n",
        "\n",
        "        self.records = [record for record in self.records if record.get(column_name) != value]\n",
        "\n",
        "        return deleted_records"
      ],
      "metadata": {
        "id": "BQIr43rh9uM9"
      },
      "execution_count": 17,
      "outputs": []
    },
    {
      "cell_type": "markdown",
      "source": [
        "# **Function for reading records from csv file**"
      ],
      "metadata": {
        "id": "PzBs6JGGABv_"
      }
    },
    {
      "cell_type": "code",
      "source": [
        "def read_records_from_csv(file_name):\n",
        "    file_path = f'./{file_name}'\n",
        "    records = []\n",
        "    with open(file_path, 'r') as file:\n",
        "        reader = csv.DictReader(file)\n",
        "        for row in reader:\n",
        "            records.append(row)\n",
        "    return records"
      ],
      "metadata": {
        "id": "ohxm4PAc9y0d"
      },
      "execution_count": 18,
      "outputs": []
    },
    {
      "cell_type": "markdown",
      "source": [
        "# **2.1 Parser for SELECT ALL statement**"
      ],
      "metadata": {
        "id": "LgqXS6dEAGAd"
      }
    },
    {
      "cell_type": "code",
      "source": [
        "def parse_sql(statement):\n",
        "    tokens = statement.split()\n",
        "    if len(tokens) >= 4 and tokens[0].upper() == 'SELECT' and tokens[1] == '*' and tokens[2].upper() == 'FROM':\n",
        "        table_name = tokens[3]\n",
        "        if table_name == 'phone_book':\n",
        "            limit = int(tokens[4]) if len(tokens) > 4 else 10\n",
        "            result = phone_book.select_all(limit)\n",
        "\n",
        "            # Create a PrettyTable instance\n",
        "            table = PrettyTable()\n",
        "\n",
        "            # Add columns based on the keys of the first record\n",
        "            if result:\n",
        "                table.field_names = result[0].keys()\n",
        "\n",
        "                # Add rows to the table\n",
        "                for record in result:\n",
        "                    table.add_row(record.values())\n",
        "\n",
        "                # Print the table\n",
        "                print(table)\n",
        "            else:\n",
        "                print(\"No records found.\")\n",
        "        else:\n",
        "            print(f\"Unknown table: {table_name}\")\n",
        "    else:\n",
        "        print(\"Invalid SELECT statement.\")"
      ],
      "metadata": {
        "id": "ApznoEC191-v"
      },
      "execution_count": 19,
      "outputs": []
    },
    {
      "cell_type": "markdown",
      "source": [
        "# **2.2 Parser for SELECT WHERE statement**"
      ],
      "metadata": {
        "id": "30PFiTWIAXOc"
      }
    },
    {
      "cell_type": "code",
      "source": [
        "def parse_sql_2(statement):\n",
        "    tokens = statement.split()\n",
        "    if len(tokens) >= 4 and tokens[0].upper() == 'SELECT' and tokens[1] == '*' and tokens[2].upper() == 'FROM':\n",
        "        table_name = tokens[3]\n",
        "        if table_name == 'phone_book':\n",
        "            if 'WHERE' in tokens and len(tokens) >= 6:\n",
        "                parse_where_clause(tokens)\n",
        "            else:\n",
        "                limit = int(tokens[-1]) if len(tokens) > 4 else 10\n",
        "                result = phone_book.select_all(limit)\n",
        "\n",
        "                # Create a PrettyTable instance\n",
        "                table = PrettyTable()\n",
        "\n",
        "                # Add columns based on the keys of the first record\n",
        "                if result:\n",
        "                    table.field_names = result[0].keys()\n",
        "\n",
        "                    # Add rows to the table\n",
        "                    for record in result:\n",
        "                        table.add_row(record.values())\n",
        "\n",
        "                    # Print the table\n",
        "                    print(table)\n",
        "                else:\n",
        "                    print(\"No records found.\")\n",
        "        else:\n",
        "            print(f\"Unknown table: {table_name}\")\n",
        "    else:\n",
        "        print(\"Invalid SELECT statement.\")\n",
        "\n",
        "def parse_where_clause(tokens):\n",
        "    where_index = tokens.index('WHERE')\n",
        "    condition = ' '.join(tokens[where_index + 1:])\n",
        "\n",
        "\n",
        "    condition_parts = condition.split('=')\n",
        "    if len(condition_parts) == 2:\n",
        "        column_name = condition_parts[0].strip()\n",
        "        value = condition_parts[1].strip().strip(\"';\")\n",
        "\n",
        "        result = phone_book.select_all()\n",
        "\n",
        "        # Filter records based on the condition\n",
        "        filtered_records = [record for record in result if record.get(column_name) == value]\n",
        "\n",
        "        # Create a PrettyTable instance\n",
        "        table = PrettyTable()\n",
        "\n",
        "        # Add columns based on the keys of the first record\n",
        "        if filtered_records:\n",
        "            table.field_names = filtered_records[0].keys()\n",
        "\n",
        "            # Add rows to the table\n",
        "            for record in filtered_records:\n",
        "                table.add_row(record.values())\n",
        "\n",
        "            # Print the table\n",
        "            print(table)\n",
        "        else:\n",
        "            print(f\"No records found for {column_name}='{value}'.\")\n",
        "    else:\n",
        "        print(\"Invalid WHERE condition.\")\n"
      ],
      "metadata": {
        "id": "7iCwlwZg-BcI"
      },
      "execution_count": 20,
      "outputs": []
    },
    {
      "cell_type": "markdown",
      "source": [
        "# **2.3 Parser for INSERT INTO statement**"
      ],
      "metadata": {
        "id": "ujm5crZXAjHF"
      }
    },
    {
      "cell_type": "code",
      "source": [
        "def parse_sql_3(statement, phone_book):\n",
        "    tokens = statement.split()\n",
        "    if len(tokens) >= 6 and tokens[0].upper() == 'INSERT' and tokens[1].upper() == 'INTO':\n",
        "        table_name = tokens[2]\n",
        "        if table_name.lower() == 'phone_book' and tokens[3].upper() == 'VALUES':\n",
        "            # Extract values from the statement\n",
        "            values_str = ' '.join(tokens[4:])\n",
        "\n",
        "            # Remove leading '(' and trailing ');'\n",
        "            values_str = values_str.lstrip(\"('\").rstrip(\"');\")\n",
        "\n",
        "            # Split values and remove single quotes\n",
        "            values = [value.strip(\"'\") for value in values_str.split(',')]\n",
        "\n",
        "            # Assuming your PhoneBook class has a method add_record\n",
        "            added_record = phone_book.add_record(*values)\n",
        "\n",
        "            if added_record:\n",
        "                print(f\"Record added successfully: {added_record}\")\n",
        "            else:\n",
        "                print(\"Failed to add record. Check your values.\")\n",
        "        else:\n",
        "            print(f\"Unknown table or invalid syntax: {statement}\")\n",
        "    else:\n",
        "        print(\"Invalid INSERT INTO statement.\")"
      ],
      "metadata": {
        "id": "7UGNX7lF-FLf"
      },
      "execution_count": 21,
      "outputs": []
    },
    {
      "cell_type": "markdown",
      "source": [
        "# 2.4 Parser for DELETE **statement**"
      ],
      "metadata": {
        "id": "MDhA_B85AqJi"
      }
    },
    {
      "cell_type": "code",
      "source": [
        "def parse_sql_4(statement):\n",
        "    tokens = statement.split()\n",
        "    if len(tokens) >= 6 and tokens[0].upper() == 'DELETE' and tokens[1].upper() == 'FROM':\n",
        "        table_name = tokens[2]\n",
        "        if table_name == 'phone_book' and tokens[3].upper() == 'WHERE':\n",
        "            # Extract conditions after WHERE\n",
        "            conditions = ' '.join(tokens[4:])\n",
        "\n",
        "            # Assuming the condition is in the form \"column='value';\"\n",
        "            if conditions.endswith(';'):\n",
        "                conditions = conditions[:-1]  # Remove the trailing semicolon\n",
        "\n",
        "            condition_parts = conditions.split('=')\n",
        "            if len(condition_parts) == 2:\n",
        "                column_name = condition_parts[0].strip()\n",
        "                value = condition_parts[1].strip()\n",
        "\n",
        "                # Check if the value is enclosed in single quotes and remove them\n",
        "                if value.startswith(\"'\") and value.endswith(\"'\"):\n",
        "                    value = value[1:-1]\n",
        "\n",
        "                # Perform the delete operation\n",
        "                deleted_records = phone_book.remove_records(column_name, value)\n",
        "\n",
        "                if deleted_records:\n",
        "                    print(f\"{len(deleted_records)} record(s) deleted successfully.\")\n",
        "                else:\n",
        "                    print(f\"No records found for {column_name}='{value}'.\")\n",
        "            else:\n",
        "                print(\"Invalid WHERE condition.\")\n",
        "        else:\n",
        "            print(f\"Unknown table or invalid syntax: {statement}\")\n",
        "    else:\n",
        "        print(\"Invalid DELETE statement.\")"
      ],
      "metadata": {
        "id": "Uzge0rF7-ZCG"
      },
      "execution_count": 22,
      "outputs": []
    }
  ]
}